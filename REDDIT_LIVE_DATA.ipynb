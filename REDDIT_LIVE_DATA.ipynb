{
 "cells": [
  {
   "cell_type": "code",
   "execution_count": 2,
   "id": "9c9ad251-d75f-45f2-b0db-781bc41e60fd",
   "metadata": {},
   "outputs": [],
   "source": [
    "import praw # python reddit api wrapper\n",
    "from keys import client_name_scr, client_key_scr, client_name_web, client_key_web\n",
    "import time\n",
    "import datetime\n",
    "import os"
   ]
  },
  {
   "cell_type": "code",
   "execution_count": 5,
   "id": "c82405e5-0920-4857-9991-3a4108aa615b",
   "metadata": {},
   "outputs": [],
   "source": [
    "def get_political_comments_from_top_posts(subreddit_name, max_posts=100, time_filter=\"all\"):\n",
    "    \"\"\"Fetches politically relevant comments from top posts in a subreddit.\"\"\"\n",
    "    print(\"_\"*100)\n",
    "    print(f\"r/{subreddit_name}\")\n",
    "    \n",
    "    # Define Indian political keywords for filtering\n",
    "    political_keywords = [\n",
    "        # Political parties and organizations\n",
    "        'bjp', 'congress', 'aap', 'tmc', 'shiv sena', 'ncp', 'rss', \n",
    "        'left front', 'dmk', 'aiadmk', 'jdu', 'rjd', 'bsp', 'sp',\n",
    "        \n",
    "        # Politicians\n",
    "        'modi', 'rahul gandhi', 'amit shah', 'kejriwal', 'mamata', \n",
    "        'yogi', 'sonia', 'kharge', 'fadnavis',\n",
    "        \n",
    "        # Government entities\n",
    "        'parliament', 'lok sabha', 'rajya sabha', 'supreme court', \n",
    "        'high court', 'cabinet', 'ministry', 'pmo', 'cbi', 'ed',\n",
    "        \n",
    "        # Political issues\n",
    "        'election', 'vote', 'democracy', 'constitution', 'policy', \n",
    "        'bill', 'act', 'law', 'legislation', 'scam', 'corruption',\n",
    "        'protest', 'movement', 'reform', 'budget', 'tax', 'subsidy',\n",
    "        \n",
    "        # Government schemes\n",
    "        'ayushman', 'swachh bharat', 'make in india', 'gst', 'aadhar',\n",
    "        'ration', 'welfare', 'scheme', 'yojana',\n",
    "        \n",
    "        # Political ideologies\n",
    "        'left wing', 'right wing', 'liberal', 'conservative', 'secular',\n",
    "        'communist', 'socialist', 'capitalist', 'hindutva', 'nationalism'\n",
    "    ]\n",
    "    \n",
    "    subreddit = reddit.subreddit(subreddit_name)\n",
    "    political_posts = []\n",
    "    \n",
    "    for i, post in enumerate(subreddit.top(limit=max_posts, time_filter=time_filter)):\n",
    "        time.sleep(1)  # to Avoid hitting rate limits\n",
    "        \n",
    "        # Check if title or post content contains political keywords\n",
    "        title_lower = post.title.lower()\n",
    "        text_lower = post.selftext.lower() if post.selftext else \"\"\n",
    "        \n",
    "        is_political_post = any(keyword in title_lower or keyword in text_lower for keyword in political_keywords)\n",
    "        \n",
    "        # Initialize flag for tracking if any comments are political\n",
    "        has_political_comments = False\n",
    "        \n",
    "        post_data = {\n",
    "            'title': post.title,\n",
    "            'text': post.selftext.strip() if post.selftext else \"\",\n",
    "            'created_utc': post.created_utc,\n",
    "            'is_political_post': is_political_post,\n",
    "            'political_comments': [],\n",
    "            'num_comments': post.num_comments\n",
    "        }\n",
    "        \n",
    "        # Print status with political indicator\n",
    "        political_indicator = \"[POLITICAL]\" if is_political_post else \"[NON-POLITICAL]\"\n",
    "        print(f\"{i} | Fetching comments from: {political_indicator} {post.title}\")\n",
    "        \n",
    "        # Fetch all comments (flat, no hierarchy)\n",
    "        post.comments.replace_more(limit=None)  # Get all comments\n",
    "        \n",
    "        for comment in post.comments.list():\n",
    "            comment_text = comment.body\n",
    "            comment_lower = comment_text.lower()\n",
    "            \n",
    "            # Check if comment contains political keywords\n",
    "            is_political_comment = any(keyword in comment_lower for keyword in political_keywords)\n",
    "            \n",
    "            if is_political_comment:\n",
    "                has_political_comments = True\n",
    "                post_data['political_comments'].append({\n",
    "                    'text': comment_text,\n",
    "                    'created_utc': comment.created_utc,\n",
    "                })\n",
    "        \n",
    "        # Only add posts that are either political themselves or have political comments\n",
    "        if is_political_post or has_political_comments:\n",
    "            political_posts.append(post_data)\n",
    "        print(f\"---> {len(post_data['political_comments'])} political comments saved\")\n",
    "        time.sleep(1)  # to Avoid hitting rate limits\n",
    "    \n",
    "    print(f\"Found {len(political_posts)} politically relevant posts out of {max_posts} checked\")\n",
    "    print(\"_\"*100)\n",
    "    \n",
    "    return political_posts"
   ]
  },
  {
   "cell_type": "code",
   "execution_count": 7,
   "id": "75887382-242d-4238-ab34-67ae5ec43a44",
   "metadata": {},
   "outputs": [],
   "source": [
    "def get_comments_from_top_posts(subreddit_name, max_posts=100, time_filter=\"all\"):\n",
    "    \"\"\"Fetches comments from top posts in a subreddit.\"\"\"\n",
    "    print(\"_\"*100)\n",
    "    print(f\"r/{subreddit_name}\")\n",
    "    \n",
    "    subreddit = reddit.subreddit(subreddit_name)\n",
    "    posts = []\n",
    "    for i, post in enumerate(subreddit.hot(limit=max_posts, time_filter=time_filter)):\n",
    "        print(f\"{i} | Fetching comments from: {post.title}\")\n",
    "\n",
    "        post_data = {\n",
    "            'title': post.title,\n",
    "            'text': post.selftext.strip() if post.selftext else \"\",\n",
    "            'created_utc': post.created_utc,\n",
    "            'comments': []\n",
    "        }\n",
    "        \n",
    "        # Fetch all comments (flat, no hierarchy)\n",
    "        post.comments.replace_more(limit=None)  # Get all comments\n",
    "\n",
    "        for comment in post.comments.list():\n",
    "            post_data['comments'].append(comment.body)\n",
    "        \n",
    "        posts.append(post_data)\n",
    "        time.sleep(1)  # to Avoid hitting rate limits\n",
    "    print(\"_\"*100)\n",
    "    return posts\n",
    "\n",
    "def save(main_dic):\n",
    "    text = \"\"\n",
    "    for post in main_dic:\n",
    "        text += post['title']\n",
    "        for comm in post['comments']:\n",
    "            text += comm + \"\\n\"\n",
    "    \n",
    "    with open(\"india.txt\", \"w\", encoding = \"utf-8\") as f:\n",
    "        f.write(text)\n",
    "\n",
    "def scrap_info(main_dic):\n",
    "    print(f\"Top posts fetched : {len(main_dic)}\")\n",
    "    print(f\"Total comments under all posts : {sum([len(x['comments']) for x in main_dic])}\")"
   ]
  },
  {
   "cell_type": "code",
   "execution_count": 9,
   "id": "fa358b2d-5f8e-460d-a906-6c62d248f813",
   "metadata": {},
   "outputs": [],
   "source": [
    "# Initialize Reddit API\n",
    "reddit = praw.Reddit(\n",
    "    client_id = client_name_web,\n",
    "    client_secret = client_key_web,\n",
    "    user_agent=\"testscript by u/Outside_Addition_647)\"\n",
    ")"
   ]
  },
  {
   "cell_type": "code",
   "execution_count": 6,
   "id": "7641b883-7f69-4cae-bf8f-5957afe8fda3",
   "metadata": {},
   "outputs": [
    {
     "name": "stdout",
     "output_type": "stream",
     "text": [
      "{'remaining': None, 'reset_timestamp': None, 'used': None}\n"
     ]
    }
   ],
   "source": [
    "#print(reddit.auth.limits)"
   ]
  },
  {
   "cell_type": "code",
   "execution_count": 7,
   "id": "fa04973e-2b4f-4cc6-aa11-93d7fbb92871",
   "metadata": {},
   "outputs": [
    {
     "name": "stdout",
     "output_type": "stream",
     "text": [
      "Canadian NHL Legend Wayne Gretzky posing in MAGA hat\n",
      "Europe cannot be vassal of US, Macron says amid Trump's foreign policy shifts. French President Emmanuel Macron called upon Europe to \"rediscover taste for risk, ambition and power\"\n",
      "She has claimed her human\n",
      "Some Other Guy\n",
      "Mind blowing revelation\n"
     ]
    }
   ],
   "source": [
    "\"\"\"subreddit = reddit.subreddit(\"all\")  # Public subreddit\n",
    "for post in subreddit.hot(limit=5):\n",
    "    print(post.title)\"\"\""
   ]
  },
  {
   "cell_type": "code",
   "execution_count": 20,
   "id": "122c0a26-b717-4c2e-b805-97581a82306b",
   "metadata": {},
   "outputs": [
    {
     "name": "stdout",
     "output_type": "stream",
     "text": [
      "None\n",
      "Authentication successful!\n"
     ]
    }
   ],
   "source": [
    "\"\"\"try:\n",
    "    print(reddit.user.me())  # Should print 'None' in read-only mode\n",
    "    print(\"Authentication successful!\")\n",
    "except Exception as e:\n",
    "    print(f\"Auth error: {e}\")\"\"\""
   ]
  },
  {
   "cell_type": "markdown",
   "id": "ecd3cc3e-83ac-41ff-8b44-0349254155fb",
   "metadata": {
    "scrolled": true
   },
   "source": [
    "### r/ india- 2.5M\n",
    "### r/ IndiaSpeaks - 1.0 M \n",
    "### r/ UnitedStatesofIndia - 470k \n",
    "### r/ Delhi - 1.0 M\n",
    "### r/ Mumbai - 900 K\n",
    "### r/ Bangaluru - 899 K\n",
    "### r/ Pune"
   ]
  },
  {
   "cell_type": "markdown",
   "id": "36708ae9-d7fa-4e31-94f9-aa3bd9103c57",
   "metadata": {},
   "source": [
    "### Sentiment towards Goverment, Bueracracy and Opposition"
   ]
  },
  {
   "cell_type": "code",
   "execution_count": null,
   "id": "ae676645-9da5-41bf-9046-aae7f800005b",
   "metadata": {},
   "outputs": [
    {
     "name": "stdout",
     "output_type": "stream",
     "text": [
      "____________________________________________________________________________________________________\n",
      "r/india\n",
      "0 | Fetching comments from: [NON-POLITICAL] 'We've only been here a few hours and have seen half a dozen people die while they wait for treatment.' - Sky News ground report from Delhi\n",
      "---> 1066 political comments saved\n",
      "1 | Fetching comments from: [NON-POLITICAL] Today is my birthday and my parents bought me this. I am 27.\n",
      "---> 449 political comments saved\n",
      "2 | Fetching comments from: [POLITICAL] Neeraj Chopra Creates History !! Wins India's Second Ever Individual Gold Medal in the Olympics with an amazing throw of 87.58m !! A proud moment for every Indian .\n",
      "---> 535 political comments saved\n",
      "3 | Fetching comments from: [POLITICAL] How to not get raped in India\n",
      "---> 651 political comments saved\n",
      "4 | Fetching comments from: [POLITICAL] It's 2021 and India is still doing brown face instead of actually hiring darker skin actors.\n",
      "---> 1478 political comments saved\n",
      "5 | Fetching comments from: [POLITICAL] A troop of monkeys purportedly intervened to save a 6-year-old girl, a UKG student, from a rape attempt in Baghpat. \n",
      "---> 332 political comments saved\n",
      "6 | Fetching comments from: [POLITICAL] What can India and Indians do to attract more international tourists.\n",
      "---> 409 political comments saved\n",
      "7 | Fetching comments from: [POLITICAL] I won the Indian Cosplay Championship trophy at Comic Con India.\n",
      "---> 370 political comments saved\n",
      "8 | Fetching comments from: [NON-POLITICAL] Chandrayaan-3's lander makes soft landing on the Moon\n"
     ]
    }
   ],
   "source": [
    "india = get_political_comments_from_top_posts(\"india\")"
   ]
  },
  {
   "cell_type": "code",
   "execution_count": null,
   "id": "e2f7b7fa-de28-4694-a792-247f4e4a71fe",
   "metadata": {},
   "outputs": [],
   "source": [
    "save(india)\n",
    "scrap_info(india)"
   ]
  },
  {
   "cell_type": "code",
   "execution_count": 7,
   "id": "70f660c1-1e1b-4591-b032-666aca739a7f",
   "metadata": {},
   "outputs": [
    {
     "ename": "NameError",
     "evalue": "name 'india' is not defined",
     "output_type": "error",
     "traceback": [
      "\u001b[1;31m---------------------------------------------------------------------------\u001b[0m",
      "\u001b[1;31mNameError\u001b[0m                                 Traceback (most recent call last)",
      "Cell \u001b[1;32mIn[7], line 1\u001b[0m\n\u001b[1;32m----> 1\u001b[0m \u001b[43mindia\u001b[49m\n",
      "\u001b[1;31mNameError\u001b[0m: name 'india' is not defined"
     ]
    }
   ],
   "source": []
  },
  {
   "cell_type": "code",
   "execution_count": null,
   "id": "ca82e09e-56c5-484b-8017-e246eeff8416",
   "metadata": {},
   "outputs": [],
   "source": [
    "subr[sub] = get_comments_from_top_posts(subreddit_name)"
   ]
  }
 ],
 "metadata": {
  "kernelspec": {
   "display_name": "NLP-Tx",
   "language": "python",
   "name": "nlp-tx"
  },
  "language_info": {
   "codemirror_mode": {
    "name": "ipython",
    "version": 3
   },
   "file_extension": ".py",
   "mimetype": "text/x-python",
   "name": "python",
   "nbconvert_exporter": "python",
   "pygments_lexer": "ipython3",
   "version": "3.10.13"
  }
 },
 "nbformat": 4,
 "nbformat_minor": 5
}
