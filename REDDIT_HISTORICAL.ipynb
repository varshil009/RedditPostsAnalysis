{
 "cells": [
  {
   "cell_type": "code",
   "execution_count": 1,
   "id": "3265dbb2-9da9-4237-b94e-1ea98ac5d801",
   "metadata": {},
   "outputs": [],
   "source": [
    "import requests\n",
    "import datetime\n",
    "import time"
   ]
  },
  {
   "cell_type": "code",
   "execution_count": 2,
   "id": "0fcfcf4b-4d6c-438a-89e7-2f5c05bbebd7",
   "metadata": {},
   "outputs": [],
   "source": [
    "\n",
    "def fetch_reddit_posts(subreddit, year=2024, max_posts=5000):\n",
    "    all_posts = []\n",
    "    start_timestamp = int(datetime.datetime(year, 1, 1).timestamp())  # Jan 1, 2024\n",
    "    end_timestamp = int(datetime.datetime(year, 12, 31, 23, 59, 59).timestamp())  # Dec 31, 2024\n",
    "\n",
    "    url = f\"https://api.pushshift.io/reddit/search/submission/?subreddit={subreddit}&limit=100&after={start_timestamp}&before={end_timestamp}\"\n",
    "\n",
    "    while len(all_posts) < max_posts:\n",
    "        print(f\"Fetching posts... Current count: {len(all_posts)}\")\n",
    "        \n",
    "        response = requests.get(url)\n",
    "        if response.status_code != 200:\n",
    "            print(f\"Error: {response.status_code}\")\n",
    "            break\n",
    "        \n",
    "        data = response.json().get(\"data\", [])\n",
    "        if not data:\n",
    "            print(\"No more posts found.\")\n",
    "            break\n",
    "\n",
    "        for post in data:\n",
    "            post_data = {\n",
    "                \"title\": post.get(\"title\", \"\"),\n",
    "                \"text\": post.get(\"selftext\", \"\"),\n",
    "                \"created_utc\": post.get(\"created_utc\"),\n",
    "                \"comments\": []  # Comments need a separate API call\n",
    "            }\n",
    "            all_posts.append(post_data)\n",
    "\n",
    "        # Pagination: Get next batch using `after` parameter\n",
    "        last_post_time = data[-1][\"created_utc\"]\n",
    "        url = f\"https://api.pushshift.io/reddit/search/submission/?subreddit={subreddit}&limit=100&after={last_post_time}&before={end_timestamp}\"\n",
    "        \n",
    "        time.sleep(1)  # Avoid rate limits\n",
    "\n",
    "    return all_posts[:max_posts]  # Limit total posts\n",
    "# Example Usage"
   ]
  },
  {
   "cell_type": "code",
   "execution_count": 3,
   "id": "5d48ec94-9845-40de-8e8b-720f62ab16f4",
   "metadata": {},
   "outputs": [
    {
     "name": "stdout",
     "output_type": "stream",
     "text": [
      "Fetching posts... Current count: 0\n",
      "Error: 403\n"
     ]
    }
   ],
   "source": [
    "posts = fetch_reddit_posts(\"pune\", year=2024, max_posts=2000)"
   ]
  },
  {
   "cell_type": "code",
   "execution_count": null,
   "id": "e0555c0a-db7e-4e23-956a-9cbfb8d03a5b",
   "metadata": {},
   "outputs": [],
   "source": [
    "print(f\"Total posts fetched: {len(posts)}\")"
   ]
  }
 ],
 "metadata": {
  "kernelspec": {
   "display_name": "NLP-Tx",
   "language": "python",
   "name": "nlp-tx"
  },
  "language_info": {
   "codemirror_mode": {
    "name": "ipython",
    "version": 3
   },
   "file_extension": ".py",
   "mimetype": "text/x-python",
   "name": "python",
   "nbconvert_exporter": "python",
   "pygments_lexer": "ipython3",
   "version": "3.10.13"
  }
 },
 "nbformat": 4,
 "nbformat_minor": 5
}
